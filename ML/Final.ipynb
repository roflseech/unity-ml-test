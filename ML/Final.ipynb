{
 "cells": [
  {
   "cell_type": "markdown",
   "id": "e103c85d",
   "metadata": {},
   "source": [
    "# Help functions"
   ]
  },
  {
   "cell_type": "code",
   "execution_count": 123,
   "id": "0c86405b",
   "metadata": {},
   "outputs": [],
   "source": [
    "import imageio\n",
    "import numpy as np\n",
    "\n",
    "def LoadImage(filename):\n",
    "    im = imageio.imread(filename)\n",
    "    im = im[:, :, 0]\n",
    "    im = im.astype('float32')\n",
    "    im  = im/255\n",
    "    return im"
   ]
  },
  {
   "cell_type": "code",
   "execution_count": null,
   "id": "7ece93a3",
   "metadata": {},
   "outputs": [],
   "source": []
  },
  {
   "cell_type": "code",
   "execution_count": null,
   "id": "501e703f",
   "metadata": {},
   "outputs": [],
   "source": []
  },
  {
   "cell_type": "code",
   "execution_count": null,
   "id": "265f0e2a",
   "metadata": {},
   "outputs": [],
   "source": []
  },
  {
   "cell_type": "markdown",
   "id": "128783f6",
   "metadata": {},
   "source": [
    "# Parameters"
   ]
  },
  {
   "cell_type": "code",
   "execution_count": 124,
   "id": "4bb259dd",
   "metadata": {},
   "outputs": [],
   "source": [
    "image_size = 28"
   ]
  },
  {
   "cell_type": "markdown",
   "id": "7dc47393",
   "metadata": {},
   "source": [
    "# Locate data and store to datasetFIles"
   ]
  },
  {
   "cell_type": "code",
   "execution_count": 125,
   "id": "d84bb9ef",
   "metadata": {},
   "outputs": [],
   "source": [
    "from os import listdir\n",
    "from os.path import isfile, join\n",
    "\n",
    "dirs = listdir(\"Data\")\n",
    "datasetFiles = {}"
   ]
  },
  {
   "cell_type": "code",
   "execution_count": 126,
   "id": "90bf5e60",
   "metadata": {},
   "outputs": [],
   "source": [
    "for dir in dirs:\n",
    "    filesInCurrentFolder = listdir(\"Data/\" + dir)\n",
    "    datasetFiles[dir] = []\n",
    "    for file in filesInCurrentFolder:\n",
    "        if file.endswith(\".png\"):\n",
    "            datasetFiles[dir].append(\"Data/\" + dir + \"/\" + file)"
   ]
  },
  {
   "cell_type": "markdown",
   "id": "234301bc",
   "metadata": {},
   "source": [
    "# Load and process data"
   ]
  },
  {
   "cell_type": "code",
   "execution_count": 141,
   "id": "b54c2710",
   "metadata": {},
   "outputs": [
    {
     "name": "stderr",
     "output_type": "stream",
     "text": [
      "C:\\Users\\aaa\\AppData\\Local\\Temp/ipykernel_19964/3791481005.py:5: DeprecationWarning: Starting with ImageIO v3 the behavior of this function will switch to that of iio.v3.imread. To keep the current behavior (and make this warning disappear) use `import imageio.v2 as imageio` or call `imageio.v2.imread` directly.\n",
      "  im = imageio.imread(filename)\n"
     ]
    }
   ],
   "source": [
    "import imageio\n",
    "import numpy as np\n",
    "from sklearn.model_selection import train_test_split\n",
    "from keras.utils import np_utils \n",
    "\n",
    "dataset = []\n",
    "labelsNames = {}\n",
    "labels = []\n",
    "labelsNamesList = []\n",
    "\n",
    "currentLabelIndex = 0\n",
    "\n",
    "for tag in datasetFiles.keys():\n",
    "    labelsNames[currentLabelIndex] = tag\n",
    "    labelsNamesList.append(tag)\n",
    "    for file in datasetFiles[tag]:\n",
    "        im = LoadImage(file)\n",
    "        dataset.append(im)\n",
    "        labels.append(currentLabelIndex)\n",
    "        \n",
    "    currentLabelIndex+=1\n",
    "        \n",
    "dataset = np.array(dataset)\n",
    "dataset = dataset.reshape(dataset.shape[0], image_size, image_size, 1)\n",
    "labels = np.array(labels)\n",
    "labels = np_utils.to_categorical(labels)\n",
    "\n",
    "x_train, x_test, y_train, y_test = train_test_split(dataset, labels, test_size=0.33, random_state=42)\n",
    "\n",
    "class_count = len(labelsNames.keys())"
   ]
  },
  {
   "cell_type": "markdown",
   "id": "edfcc07e",
   "metadata": {},
   "source": [
    "# Model (OLD)"
   ]
  },
  {
   "cell_type": "code",
   "execution_count": 128,
   "id": "b79a0083",
   "metadata": {},
   "outputs": [],
   "source": [
    "import numpy as np\n",
    "import matplotlib.pyplot as plt\n",
    "from tensorflow.keras.models import load_model\n",
    "from keras.datasets import mnist\n",
    "from tensorflow.keras.models import Sequential\n",
    "from tensorflow.keras.layers import Conv2D,Flatten,Dropout,Dense,MaxPooling2D\n",
    "from tensorflow.keras.optimizers import SGD\n",
    "from keras.utils import np_utils \n",
    "\n",
    "model = Sequential()\n",
    "\n",
    "model.add(Conv2D(32, kernel_size=(3,3), activation='relu',input_shape=(image_size,image_size,1), padding='SAME'))\n",
    "model.add(MaxPooling2D(pool_size=(2,2)))\n",
    "model.add(Conv2D(64,(3,3),activation='relu',padding='SAME'))\n",
    "model.add(Dense(64, activation='relu'))\n",
    "model.add(MaxPooling2D(pool_size=(2,2)))\n",
    "model.add(Dropout(0.25))\n",
    "model.add(Flatten())\n",
    "\n",
    "model.add(Dense(128, activation='relu'))\n",
    "\n",
    "model.add(Dense(50, activation='relu'))\n",
    "model.add(Dense(class_count, activation='softmax'))\n",
    "\n",
    "model.compile(loss='categorical_crossentropy', optimizer=SGD(0.01), metrics=['accuracy'])"
   ]
  },
  {
   "cell_type": "code",
   "execution_count": 107,
   "id": "5ee187b2",
   "metadata": {},
   "outputs": [
    {
     "name": "stdout",
     "output_type": "stream",
     "text": [
      "Model: \"sequential_2\"\n",
      "_________________________________________________________________\n",
      " Layer (type)                Output Shape              Param #   \n",
      "=================================================================\n",
      " conv2d_4 (Conv2D)           (None, 28, 28, 32)        320       \n",
      "                                                                 \n",
      " max_pooling2d_4 (MaxPooling  (None, 14, 14, 32)       0         \n",
      " 2D)                                                             \n",
      "                                                                 \n",
      " conv2d_5 (Conv2D)           (None, 14, 14, 64)        18496     \n",
      "                                                                 \n",
      " dense_7 (Dense)             (None, 14, 14, 64)        4160      \n",
      "                                                                 \n",
      " max_pooling2d_5 (MaxPooling  (None, 7, 7, 64)         0         \n",
      " 2D)                                                             \n",
      "                                                                 \n",
      " dropout_2 (Dropout)         (None, 7, 7, 64)          0         \n",
      "                                                                 \n",
      " flatten_2 (Flatten)         (None, 3136)              0         \n",
      "                                                                 \n",
      " dense_8 (Dense)             (None, 128)               401536    \n",
      "                                                                 \n",
      " dense_9 (Dense)             (None, 50)                6450      \n",
      "                                                                 \n",
      " dense_10 (Dense)            (None, 2)                 102       \n",
      "                                                                 \n",
      "=================================================================\n",
      "Total params: 431,064\n",
      "Trainable params: 431,064\n",
      "Non-trainable params: 0\n",
      "_________________________________________________________________\n",
      "None\n"
     ]
    }
   ],
   "source": [
    "print(model.summary())"
   ]
  },
  {
   "cell_type": "markdown",
   "id": "9eaff305",
   "metadata": {},
   "source": [
    "# Leaning (OLD)"
   ]
  },
  {
   "cell_type": "code",
   "execution_count": 108,
   "id": "a6e42411",
   "metadata": {},
   "outputs": [
    {
     "name": "stdout",
     "output_type": "stream",
     "text": [
      "Epoch 1/3\n",
      "1/1 [==============================] - 1s 601ms/step - loss: 0.6889 - accuracy: 0.5000 - val_loss: 0.6871 - val_accuracy: 0.5714\n",
      "Epoch 2/3\n",
      "1/1 [==============================] - 0s 45ms/step - loss: 0.6873 - accuracy: 0.5357 - val_loss: 0.6865 - val_accuracy: 0.5714\n",
      "Epoch 3/3\n",
      "1/1 [==============================] - 0s 44ms/step - loss: 0.6861 - accuracy: 0.6786 - val_loss: 0.6857 - val_accuracy: 0.5714\n",
      "Test loss --->  68.57%\n",
      "Test accuracy --->  57.14%\n"
     ]
    }
   ],
   "source": [
    "batch_size=32\n",
    "epochs=3\n",
    "\n",
    "plotting_data = model.fit(x_train,\n",
    "                          y_train,\n",
    "                          batch_size=batch_size,\n",
    "                          epochs=epochs,\n",
    "                          verbose=1,\n",
    "                          validation_data=(x_test, y_test))\n",
    "\n",
    "loss,accuracy = model.evaluate(x_test, y_test,verbose=0)\n",
    "\n",
    "print('Test loss ---> ',str(round(loss*100,2)) +str('%'))\n",
    "print('Test accuracy ---> ',str(round(accuracy*100,2)) +str('%'))"
   ]
  },
  {
   "cell_type": "markdown",
   "id": "0d736734",
   "metadata": {},
   "source": [
    "# Model 2"
   ]
  },
  {
   "cell_type": "code",
   "execution_count": 129,
   "id": "64a83d6e",
   "metadata": {},
   "outputs": [],
   "source": [
    "import tensorflow as tf\n",
    "model = tf.keras.models.Sequential()\n",
    "\n",
    "model.add(tf.keras.layers.Convolution2D(\n",
    "    input_shape=(image_size,image_size,1),\n",
    "    kernel_size=5,\n",
    "    filters=32,\n",
    "    padding='same',\n",
    "    activation=tf.keras.activations.relu\n",
    "))\n",
    "model.add(tf.keras.layers.MaxPooling2D(\n",
    "    pool_size=2,\n",
    "    strides=2\n",
    "))\n",
    "\n",
    "model.add(tf.keras.layers.Convolution2D(\n",
    "    kernel_size=3,\n",
    "    filters=32,\n",
    "    padding='same',\n",
    "    activation=tf.keras.activations.relu,\n",
    "))\n",
    "model.add(tf.keras.layers.MaxPooling2D(\n",
    "    pool_size=2,\n",
    "    strides=2\n",
    "))\n",
    "\n",
    "model.add(tf.keras.layers.Convolution2D(\n",
    "    kernel_size=3,\n",
    "    filters=64,\n",
    "    padding='same',\n",
    "    activation=tf.keras.activations.relu\n",
    "))\n",
    "model.add(tf.keras.layers.MaxPooling2D(\n",
    "    pool_size=2,\n",
    "    strides=2\n",
    "))\n",
    "\n",
    "model.add(tf.keras.layers.Flatten())\n",
    "\n",
    "model.add(tf.keras.layers.Dense(\n",
    "    units=512,\n",
    "    activation=tf.keras.activations.relu\n",
    "))\n",
    "\n",
    "model.add(tf.keras.layers.Dense(\n",
    "    units=class_count,\n",
    "    activation=tf.keras.activations.softmax\n",
    "))\n",
    "\n",
    "adam_optimizer = tf.keras.optimizers.Adam(learning_rate=0.003)\n",
    "rms_prop_optimizer = tf.keras.optimizers.RMSprop(learning_rate=0.001)\n",
    "sgd_optimizer = tf.keras.optimizers.SGD(learning_rate=0.01)\n",
    "\n",
    "model.compile(\n",
    "    optimizer=adam_optimizer,\n",
    "    loss=tf.keras.losses.categorical_crossentropy,\n",
    "    metrics=['accuracy']\n",
    ")"
   ]
  },
  {
   "cell_type": "code",
   "execution_count": null,
   "id": "7b27d317",
   "metadata": {},
   "outputs": [],
   "source": []
  },
  {
   "cell_type": "markdown",
   "id": "7cbdbfd3",
   "metadata": {},
   "source": [
    "# Learning 2"
   ]
  },
  {
   "cell_type": "code",
   "execution_count": 130,
   "id": "713bc892",
   "metadata": {},
   "outputs": [
    {
     "name": "stdout",
     "output_type": "stream",
     "text": [
      "Epoch 1/40\n",
      "1/1 [==============================] - 1s 595ms/step - loss: 1.6055 - accuracy: 0.1233 - val_loss: 1.5685 - val_accuracy: 0.2778\n",
      "Epoch 2/40\n",
      "1/1 [==============================] - 0s 68ms/step - loss: 1.4663 - accuracy: 0.3151 - val_loss: 1.4929 - val_accuracy: 0.3056\n",
      "Epoch 3/40\n",
      "1/1 [==============================] - 0s 64ms/step - loss: 1.2995 - accuracy: 0.3836 - val_loss: 1.2349 - val_accuracy: 0.4444\n",
      "Epoch 4/40\n",
      "1/1 [==============================] - 0s 66ms/step - loss: 1.0276 - accuracy: 0.6575 - val_loss: 0.9140 - val_accuracy: 0.6111\n",
      "Epoch 5/40\n",
      "1/1 [==============================] - 0s 67ms/step - loss: 0.7125 - accuracy: 0.8082 - val_loss: 0.5453 - val_accuracy: 0.8056\n",
      "Epoch 6/40\n",
      "1/1 [==============================] - 0s 67ms/step - loss: 0.3941 - accuracy: 0.9315 - val_loss: 0.2998 - val_accuracy: 1.0000\n",
      "Epoch 7/40\n",
      "1/1 [==============================] - 0s 66ms/step - loss: 0.2139 - accuracy: 0.9589 - val_loss: 0.7781 - val_accuracy: 0.7778\n",
      "Epoch 8/40\n",
      "1/1 [==============================] - 0s 66ms/step - loss: 0.3932 - accuracy: 0.8493 - val_loss: 0.6647 - val_accuracy: 0.7500\n",
      "Epoch 9/40\n",
      "1/1 [==============================] - 0s 67ms/step - loss: 0.4682 - accuracy: 0.7808 - val_loss: 0.2348 - val_accuracy: 0.8889\n",
      "Epoch 10/40\n",
      "1/1 [==============================] - 0s 72ms/step - loss: 0.0620 - accuracy: 1.0000 - val_loss: 0.7816 - val_accuracy: 0.7778\n",
      "Epoch 11/40\n",
      "1/1 [==============================] - 0s 69ms/step - loss: 0.3140 - accuracy: 0.8630 - val_loss: 0.4685 - val_accuracy: 0.8056\n",
      "Epoch 12/40\n",
      "1/1 [==============================] - 0s 68ms/step - loss: 0.1245 - accuracy: 0.9452 - val_loss: 0.1471 - val_accuracy: 0.9444\n",
      "Epoch 13/40\n",
      "1/1 [==============================] - 0s 69ms/step - loss: 0.0464 - accuracy: 0.9863 - val_loss: 0.2177 - val_accuracy: 0.8889\n",
      "Epoch 14/40\n",
      "1/1 [==============================] - 0s 74ms/step - loss: 0.1072 - accuracy: 0.9726 - val_loss: 0.2051 - val_accuracy: 0.8889\n",
      "Epoch 15/40\n",
      "1/1 [==============================] - 0s 69ms/step - loss: 0.0934 - accuracy: 0.9726 - val_loss: 0.0930 - val_accuracy: 0.9722\n",
      "Epoch 16/40\n",
      "1/1 [==============================] - 0s 70ms/step - loss: 0.0287 - accuracy: 0.9863 - val_loss: 0.1033 - val_accuracy: 0.9722\n",
      "Epoch 17/40\n",
      "1/1 [==============================] - 0s 69ms/step - loss: 0.0142 - accuracy: 1.0000 - val_loss: 0.1975 - val_accuracy: 0.9167\n",
      "Epoch 18/40\n",
      "1/1 [==============================] - 0s 68ms/step - loss: 0.0260 - accuracy: 1.0000 - val_loss: 0.2841 - val_accuracy: 0.8889\n",
      "Epoch 19/40\n",
      "1/1 [==============================] - 0s 67ms/step - loss: 0.0431 - accuracy: 0.9863 - val_loss: 0.2793 - val_accuracy: 0.8889\n",
      "Epoch 20/40\n",
      "1/1 [==============================] - 0s 70ms/step - loss: 0.0367 - accuracy: 0.9863 - val_loss: 0.2030 - val_accuracy: 0.9167\n",
      "Epoch 21/40\n",
      "1/1 [==============================] - 0s 72ms/step - loss: 0.0169 - accuracy: 1.0000 - val_loss: 0.1265 - val_accuracy: 0.9444\n",
      "Epoch 22/40\n",
      "1/1 [==============================] - 0s 71ms/step - loss: 0.0060 - accuracy: 1.0000 - val_loss: 0.0751 - val_accuracy: 0.9722\n",
      "Epoch 23/40\n",
      "1/1 [==============================] - 0s 72ms/step - loss: 0.0027 - accuracy: 1.0000 - val_loss: 0.0523 - val_accuracy: 0.9722\n",
      "Epoch 24/40\n",
      "1/1 [==============================] - 0s 71ms/step - loss: 0.0023 - accuracy: 1.0000 - val_loss: 0.0552 - val_accuracy: 0.9722\n",
      "Epoch 25/40\n",
      "1/1 [==============================] - 0s 66ms/step - loss: 0.0033 - accuracy: 1.0000 - val_loss: 0.0719 - val_accuracy: 0.9722\n",
      "Epoch 26/40\n",
      "1/1 [==============================] - 0s 67ms/step - loss: 0.0054 - accuracy: 1.0000 - val_loss: 0.0863 - val_accuracy: 0.9722\n",
      "Epoch 27/40\n",
      "1/1 [==============================] - 0s 65ms/step - loss: 0.0067 - accuracy: 1.0000 - val_loss: 0.0855 - val_accuracy: 0.9722\n",
      "Epoch 28/40\n",
      "1/1 [==============================] - 0s 68ms/step - loss: 0.0055 - accuracy: 1.0000 - val_loss: 0.0732 - val_accuracy: 0.9722\n",
      "Epoch 29/40\n",
      "1/1 [==============================] - 0s 68ms/step - loss: 0.0032 - accuracy: 1.0000 - val_loss: 0.0592 - val_accuracy: 0.9722\n",
      "Epoch 30/40\n",
      "1/1 [==============================] - 0s 70ms/step - loss: 0.0016 - accuracy: 1.0000 - val_loss: 0.0491 - val_accuracy: 0.9722\n",
      "Epoch 31/40\n",
      "1/1 [==============================] - 0s 69ms/step - loss: 8.4474e-04 - accuracy: 1.0000 - val_loss: 0.0450 - val_accuracy: 0.9722\n",
      "Epoch 32/40\n",
      "1/1 [==============================] - 0s 70ms/step - loss: 5.2724e-04 - accuracy: 1.0000 - val_loss: 0.0465 - val_accuracy: 0.9722\n",
      "Epoch 33/40\n",
      "1/1 [==============================] - 0s 72ms/step - loss: 3.9392e-04 - accuracy: 1.0000 - val_loss: 0.0543 - val_accuracy: 0.9722\n",
      "Epoch 34/40\n",
      "1/1 [==============================] - 0s 72ms/step - loss: 3.2365e-04 - accuracy: 1.0000 - val_loss: 0.0667 - val_accuracy: 0.9722\n",
      "Epoch 35/40\n",
      "1/1 [==============================] - 0s 68ms/step - loss: 2.6789e-04 - accuracy: 1.0000 - val_loss: 0.0816 - val_accuracy: 0.9444\n",
      "Epoch 36/40\n",
      "1/1 [==============================] - 0s 71ms/step - loss: 2.2656e-04 - accuracy: 1.0000 - val_loss: 0.0975 - val_accuracy: 0.9444\n",
      "Epoch 37/40\n",
      "1/1 [==============================] - 0s 71ms/step - loss: 2.0573e-04 - accuracy: 1.0000 - val_loss: 0.1132 - val_accuracy: 0.9444\n",
      "Epoch 38/40\n",
      "1/1 [==============================] - 0s 73ms/step - loss: 2.0514e-04 - accuracy: 1.0000 - val_loss: 0.1272 - val_accuracy: 0.9444\n",
      "Epoch 39/40\n",
      "1/1 [==============================] - 0s 69ms/step - loss: 2.1799e-04 - accuracy: 1.0000 - val_loss: 0.1383 - val_accuracy: 0.9444\n",
      "Epoch 40/40\n",
      "1/1 [==============================] - 0s 67ms/step - loss: 2.3264e-04 - accuracy: 1.0000 - val_loss: 0.1459 - val_accuracy: 0.9444\n",
      "Test loss --->  14.59%\n",
      "Test accuracy --->  94.44%\n"
     ]
    }
   ],
   "source": [
    "# Dataset batching\n",
    "batch_size = 2000\n",
    "prefetch_buffer_batches = 10\n",
    "\n",
    "# Training\n",
    "epochs = 40\n",
    "steps_per_epoch = 500\n",
    "\n",
    "\n",
    "\n",
    "\n",
    "plotting_data = model.fit(x_train,\n",
    "                          y_train,\n",
    "                          batch_size=batch_size,\n",
    "                          epochs=epochs,\n",
    "                          verbose=1,\n",
    "                          validation_data=(x_test, y_test))\n",
    "\n",
    "loss,accuracy = model.evaluate(x_test, y_test,verbose=0)\n",
    "\n",
    "print('Test loss ---> ',str(round(loss*100,2)) +str('%'))\n",
    "print('Test accuracy ---> ',str(round(accuracy*100,2)) +str('%'))"
   ]
  },
  {
   "cell_type": "code",
   "execution_count": null,
   "id": "71a5f306",
   "metadata": {},
   "outputs": [],
   "source": []
  },
  {
   "cell_type": "code",
   "execution_count": null,
   "id": "31a2b279",
   "metadata": {},
   "outputs": [],
   "source": []
  },
  {
   "cell_type": "markdown",
   "id": "625c2a95",
   "metadata": {},
   "source": [
    "# Save model"
   ]
  },
  {
   "cell_type": "code",
   "execution_count": 143,
   "id": "78a988be",
   "metadata": {},
   "outputs": [],
   "source": [
    "model.save(\"Model.h5\")\n",
    "\n",
    "# Convert\n",
    "import tf2onnx\n",
    "import onnxruntime as rt\n",
    "\n",
    "spec = (tf.TensorSpec((None, image_size, image_size, 1), tf.float32, name=\"input\"),)\n",
    "output_path = \"Model.onnx\"\n",
    "\n",
    "model_proto, _ = tf2onnx.convert.from_keras(model, input_signature=spec, opset=13, output_path=output_path)\n",
    "output_names = [n.name for n in model_proto.graph.output]\n",
    "\n",
    "# Class names\n",
    "import json\n",
    "labels_json = {}\n",
    "labels_json[\"Items\"] = labelsNamesList\n",
    "json_object = json.dumps(labels_json, indent = 4)\n",
    "f = open(\"ClassNames.json\", \"w\")\n",
    "f.write(json_object)\n",
    "f.close()"
   ]
  },
  {
   "cell_type": "code",
   "execution_count": null,
   "id": "f15c6c30",
   "metadata": {},
   "outputs": [],
   "source": []
  },
  {
   "cell_type": "code",
   "execution_count": null,
   "id": "94ae7e1e",
   "metadata": {},
   "outputs": [],
   "source": []
  }
 ],
 "metadata": {
  "kernelspec": {
   "display_name": "Python 3 (ipykernel)",
   "language": "python",
   "name": "python3"
  },
  "language_info": {
   "codemirror_mode": {
    "name": "ipython",
    "version": 3
   },
   "file_extension": ".py",
   "mimetype": "text/x-python",
   "name": "python",
   "nbconvert_exporter": "python",
   "pygments_lexer": "ipython3",
   "version": "3.9.7"
  }
 },
 "nbformat": 4,
 "nbformat_minor": 5
}
